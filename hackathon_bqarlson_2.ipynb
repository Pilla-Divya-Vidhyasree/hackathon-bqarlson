{
  "nbformat": 4,
  "nbformat_minor": 0,
  "metadata": {
    "colab": {
      "provenance": [],
      "authorship_tag": "ABX9TyNJiR3WkkHnRPK6zxFknvFt",
      "include_colab_link": true
    },
    "kernelspec": {
      "name": "python3",
      "display_name": "Python 3"
    },
    "language_info": {
      "name": "python"
    }
  },
  "cells": [
    {
      "cell_type": "markdown",
      "metadata": {
        "id": "view-in-github",
        "colab_type": "text"
      },
      "source": [
        "<a href=\"https://colab.research.google.com/github/Pilla-Divya-Vidhyasree/hackathon-bqarlson/blob/main/hackathon_bqarlson_2.ipynb\" target=\"_parent\"><img src=\"https://colab.research.google.com/assets/colab-badge.svg\" alt=\"Open In Colab\"/></a>"
      ]
    },
    {
      "cell_type": "code",
      "execution_count": 3,
      "metadata": {
        "colab": {
          "base_uri": "https://localhost:8080/"
        },
        "id": "lYSmQoNiqqmF",
        "outputId": "84340284-653a-402d-b778-5c74b7db7a5b"
      },
      "outputs": [
        {
          "output_type": "stream",
          "name": "stdout",
          "text": [
            "5\n",
            "1 2 3 4 5 3 2 1 4 5\n",
            "8\n"
          ]
        }
      ],
      "source": [
        "n = int(input())\n",
        "chocolates =list(map(int, input().split()))\n",
        "\n",
        "i=0\n",
        "j=2*n-1\n",
        "li = []\n",
        "while(i<n):\n",
        "  val = chocolates[i]+chocolates[j]\n",
        "  i+=1\n",
        "  j-=1\n",
        "  li.append(val)\n",
        "print(max(li))"
      ]
    },
    {
      "cell_type": "code",
      "source": [],
      "metadata": {
        "id": "wCBXNRmnrIov"
      },
      "execution_count": null,
      "outputs": []
    }
  ]
}