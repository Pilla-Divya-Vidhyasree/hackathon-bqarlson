{
  "nbformat": 4,
  "nbformat_minor": 0,
  "metadata": {
    "colab": {
      "provenance": [],
      "authorship_tag": "ABX9TyMH9SbIP2sR4Vynp30GNrKb",
      "include_colab_link": true
    },
    "kernelspec": {
      "name": "python3",
      "display_name": "Python 3"
    },
    "language_info": {
      "name": "python"
    }
  },
  "cells": [
    {
      "cell_type": "markdown",
      "metadata": {
        "id": "view-in-github",
        "colab_type": "text"
      },
      "source": [
        "<a href=\"https://colab.research.google.com/github/Pilla-Divya-Vidhyasree/hackathon-bqarlson/blob/main/bqarlson_hackathon.ipynb\" target=\"_parent\"><img src=\"https://colab.research.google.com/assets/colab-badge.svg\" alt=\"Open In Colab\"/></a>"
      ]
    },
    {
      "cell_type": "code",
      "source": [
        "# Function to remove outermost parentheses\n",
        "def removeOuterParentheses(S):\n",
        "    result = []\n",
        "    opened = 0\n",
        "\n",
        "    for char in S:\n",
        "        if char == \"(\":\n",
        "            if opened > 0:\n",
        "                result.append(char)\n",
        "            opened += 1\n",
        "        else:\n",
        "            opened -= 1\n",
        "            if opened > 0:\n",
        "                result.append(char)\n",
        "\n",
        "    return \"\".join(result)\n",
        "\n",
        "# Input\n",
        "S = input()\n",
        "\n",
        "# Call the function to remove outermost parentheses\n",
        "output = removeOuterParentheses(S)\n",
        "\n",
        "# Output the result\n",
        "print(output)\n"
      ],
      "metadata": {
        "colab": {
          "base_uri": "https://localhost:8080/"
        },
        "id": "60dPBIjcnBUQ",
        "outputId": "ead2f952-102f-4a9e-a690-546b69511323"
      },
      "execution_count": 9,
      "outputs": [
        {
          "output_type": "stream",
          "name": "stdout",
          "text": [
            "(())\n",
            "()\n"
          ]
        }
      ]
    }
  ]
}